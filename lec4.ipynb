{
 "cells": [
  {
   "cell_type": "code",
   "execution_count": 1,
   "id": "5124011d",
   "metadata": {},
   "outputs": [
    {
     "data": {
      "text/plain": [
       "'the sum of 1+2 is 3'"
      ]
     },
     "execution_count": 1,
     "metadata": {},
     "output_type": "execute_result"
    }
   ],
   "source": [
    "\"the sum of 1+2 is {}\".format(1+2)"
   ]
  },
  {
   "cell_type": "code",
   "execution_count": 2,
   "id": "7e3dd2c0",
   "metadata": {},
   "outputs": [
    {
     "name": "stdout",
     "output_type": "stream",
     "text": [
      "Looking in indexes: https://pypi.org/simple, https://pip.repos.neuron.amazonaws.com\n",
      "Collecting psycopg2\n",
      "  Downloading psycopg2-2.9.3.tar.gz (380 kB)\n",
      "\u001b[2K     \u001b[90m━━━━━━━━━━━━━━━━━━━━━━━━━━━━━━━━━━━━━━\u001b[0m \u001b[32m380.6/380.6 KB\u001b[0m \u001b[31m32.7 MB/s\u001b[0m eta \u001b[36m0:00:00\u001b[0m\n",
      "\u001b[?25h  Preparing metadata (setup.py) ... \u001b[?25ldone\n",
      "\u001b[?25hBuilding wheels for collected packages: psycopg2\n",
      "  Building wheel for psycopg2 (setup.py) ... \u001b[?25ldone\n",
      "\u001b[?25h  Created wheel for psycopg2: filename=psycopg2-2.9.3-cp38-cp38-linux_x86_64.whl size=485321 sha256=d476ae27c0722592caee427780546698ff7bb42b747294e69e2ffb9425180c0f\n",
      "  Stored in directory: /home/ec2-user/.cache/pip/wheels/f3/dc/e2/b8e0e2142eff7fd680295ecd2d92e3bfbb90195523e43da161\n",
      "Successfully built psycopg2\n",
      "Installing collected packages: psycopg2\n",
      "Successfully installed psycopg2-2.9.3\n",
      "\u001b[33mWARNING: You are using pip version 22.0.4; however, version 22.2.2 is available.\n",
      "You should consider upgrading via the '/home/ec2-user/anaconda3/envs/python3/bin/python -m pip install --upgrade pip' command.\u001b[0m\u001b[33m\n",
      "\u001b[0m"
     ]
    }
   ],
   "source": [
    "!pip install psycopg2"
   ]
  },
  {
   "cell_type": "code",
   "execution_count": 3,
   "id": "bb873f62",
   "metadata": {},
   "outputs": [],
   "source": [
    "import pandas\n",
    "import configparser\n",
    "import psycopg2"
   ]
  },
  {
   "cell_type": "code",
   "execution_count": 4,
   "id": "909e2ead",
   "metadata": {},
   "outputs": [],
   "source": [
    "config = configparser.ConfigParser()\n",
    "config.read('config.ini')\n",
    "\n",
    "host=config['myaws']['host']\n",
    "db=config['myaws']['db']\n",
    "user=config['myaws']['user']\n",
    "pwd=config['myaws']['pwd']\n"
   ]
  },
  {
   "cell_type": "code",
   "execution_count": 5,
   "id": "a5a56895",
   "metadata": {},
   "outputs": [],
   "source": [
    "conn = psycopg2.connect(host=host,\n",
    "                       user=user,\n",
    "                       password=pwd,\n",
    "                       dbname=db)"
   ]
  },
  {
   "cell_type": "code",
   "execution_count": null,
   "id": "c637b916",
   "metadata": {},
   "outputs": [],
   "source": [
    "sql_statemnet =\"\"\"\n",
    "                select bathroom, bedroom\n",
    "                from public.house_price_full\n",
    "                where bathroom>2\"\"\""
   ]
  },
  {
   "cell_type": "code",
   "execution_count": null,
   "id": "ee179662",
   "metadata": {},
   "outputs": [],
   "source": [
    "cur.execute(sql_statemnet)\n"
   ]
  },
  {
   "cell_type": "code",
   "execution_count": null,
   "id": "2bb69727",
   "metadata": {},
   "outputs": [],
   "source": [
    "cur.fetchone()"
   ]
  },
  {
   "cell_type": "code",
   "execution_count": null,
   "id": "4834c640",
   "metadata": {},
   "outputs": [],
   "source": [
    "for bathroom,bedrom in cur.fetchall()[:10]:\n",
    "    print(bathroom,bedrom)\n"
   ]
  },
  {
   "cell_type": "code",
   "execution_count": null,
   "id": "68dc665f",
   "metadata": {},
   "outputs": [],
   "source": []
  }
 ],
 "metadata": {
  "kernelspec": {
   "display_name": "conda_python3",
   "language": "python",
   "name": "conda_python3"
  },
  "language_info": {
   "codemirror_mode": {
    "name": "ipython",
    "version": 3
   },
   "file_extension": ".py",
   "mimetype": "text/x-python",
   "name": "python",
   "nbconvert_exporter": "python",
   "pygments_lexer": "ipython3",
   "version": "3.8.12"
  }
 },
 "nbformat": 4,
 "nbformat_minor": 5
}
